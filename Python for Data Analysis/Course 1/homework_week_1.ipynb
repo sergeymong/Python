{
 "cells": [
  {
   "cell_type": "markdown",
   "metadata": {},
   "source": [
    "# Task 1"
   ]
  },
  {
   "cell_type": "code",
   "execution_count": 296,
   "metadata": {},
   "outputs": [],
   "source": [
    "import numpy as np\n",
    "import scipy as sp\n",
    "import re\n",
    "import pandas as pd\n",
    "from scipy import spatial"
   ]
  },
  {
   "cell_type": "code",
   "execution_count": 154,
   "metadata": {},
   "outputs": [
    {
     "data": {
      "text/plain": [
       "0     in comparison to dogs, cats have not undergone...\n",
       "1     as cat simply catenates streams of bytes, it c...\n",
       "2     a common interactive use of cat for a single f...\n",
       "3     cats can hear sounds too faint or too high in ...\n",
       "4     in one, people deliberately tamed cats in a pr...\n",
       "5     the domesticated cat and its closest wild ance...\n",
       "6     domestic cats are similar in size to the other...\n",
       "7     however, if the output is piped or redirected,...\n",
       "8     cat with one named file is safer where human e...\n",
       "9     in terms of legibility, a sequence of commands...\n",
       "10    cat command is one of the basic commands that ...\n",
       "11    using cat command, the lines received from std...\n",
       "12    when you type simply cat command without any a...\n",
       "13    leopard was released on october 26, 2007 as th...\n",
       "14    according to apple, leopard contains over 300 ...\n",
       "15    as of mid 2010, some apple computers have firm...\n",
       "16    since apple moved to using intel processors in...\n",
       "17    os x mountain lion was released on july 25, 20...\n",
       "18    apple has released a small patch for the three...\n",
       "19    the mountain lion release marks the second tim...\n",
       "20    mac os x mountain lion installs in place, so y...\n",
       "21    the fifth major update to mac os x, leopard, c...\n",
       "Name: 0, dtype: object"
      ]
     },
     "execution_count": 154,
     "metadata": {},
     "output_type": "execute_result"
    }
   ],
   "source": [
    "text = pd.read_csv('sentences.txt', header = None, sep='\\n')\n",
    "text = text[0].str.lower()\n",
    "text"
   ]
  },
  {
   "cell_type": "code",
   "execution_count": 157,
   "metadata": {},
   "outputs": [
    {
     "data": {
      "text/plain": [
       "0     [in, comparison, to, dogs, , cats, have, not, ...\n",
       "1     [as, cat, simply, catenates, streams, of, byte...\n",
       "2     [a, common, interactive, use, of, cat, for, a,...\n",
       "3     [cats, can, hear, sounds, too, faint, or, too,...\n",
       "4     [in, one, , people, deliberately, tamed, cats,...\n",
       "5     [the, domesticated, cat, and, its, closest, wi...\n",
       "6     [domestic, cats, are, similar, in, size, to, t...\n",
       "7     [however, , if, the, output, is, piped, or, re...\n",
       "8     [cat, with, one, named, file, is, safer, where...\n",
       "9     [in, terms, of, legibility, , a, sequence, of,...\n",
       "10    [cat, command, is, one, of, the, basic, comman...\n",
       "11    [using, cat, command, , the, lines, received, ...\n",
       "12    [when, you, type, simply, cat, command, withou...\n",
       "13    [leopard, was, released, on, october, , , , , ...\n",
       "14    [according, to, apple, , leopard, contains, ov...\n",
       "15    [as, of, mid, , , , , , , some, apple, compute...\n",
       "16    [since, apple, moved, to, using, intel, proces...\n",
       "17    [os, x, mountain, lion, was, released, on, jul...\n",
       "18    [apple, has, released, a, small, patch, for, t...\n",
       "19    [the, mountain, lion, release, marks, the, sec...\n",
       "20    [mac, os, x, mountain, lion, installs, in, pla...\n",
       "21    [the, fifth, major, update, to, mac, os, x, , ...\n",
       "Name: 0, dtype: object"
      ]
     },
     "execution_count": 157,
     "metadata": {},
     "output_type": "execute_result"
    }
   ],
   "source": [
    "t = text.apply(lambda x: re.split('[^a-z]', x))\n",
    "t"
   ]
  },
  {
   "cell_type": "code",
   "execution_count": 158,
   "metadata": {},
   "outputs": [
    {
     "data": {
      "text/plain": [
       "0     [in, comparison, to, dogs, cats, have, not, un...\n",
       "1     [as, cat, simply, catenates, streams, of, byte...\n",
       "2     [a, common, interactive, use, of, cat, for, a,...\n",
       "3     [cats, can, hear, sounds, too, faint, or, too,...\n",
       "4     [in, one, people, deliberately, tamed, cats, i...\n",
       "5     [the, domesticated, cat, and, its, closest, wi...\n",
       "6     [domestic, cats, are, similar, in, size, to, t...\n",
       "7     [however, if, the, output, is, piped, or, redi...\n",
       "8     [cat, with, one, named, file, is, safer, where...\n",
       "9     [in, terms, of, legibility, a, sequence, of, c...\n",
       "10    [cat, command, is, one, of, the, basic, comman...\n",
       "11    [using, cat, command, the, lines, received, fr...\n",
       "12    [when, you, type, simply, cat, command, withou...\n",
       "13    [leopard, was, released, on, october, as, the,...\n",
       "14    [according, to, apple, leopard, contains, over...\n",
       "15    [as, of, mid, some, apple, computers, have, fi...\n",
       "16    [since, apple, moved, to, using, intel, proces...\n",
       "17    [os, x, mountain, lion, was, released, on, jul...\n",
       "18    [apple, has, released, a, small, patch, for, t...\n",
       "19    [the, mountain, lion, release, marks, the, sec...\n",
       "20    [mac, os, x, mountain, lion, installs, in, pla...\n",
       "21    [the, fifth, major, update, to, mac, os, x, le...\n",
       "Name: 0, dtype: object"
      ]
     },
     "execution_count": 158,
     "metadata": {},
     "output_type": "execute_result"
    }
   ],
   "source": [
    "t = t.apply(lambda x: [i for i in x if i != ''])\n",
    "t"
   ]
  },
  {
   "cell_type": "code",
   "execution_count": 159,
   "metadata": {},
   "outputs": [
    {
     "data": {
      "text/plain": [
       "{'a',\n",
       " 'according',\n",
       " 'adjacent',\n",
       " 'allow',\n",
       " 'allows',\n",
       " 'also',\n",
       " 'an',\n",
       " 'ancestor',\n",
       " 'and',\n",
       " 'animals',\n",
       " 'any',\n",
       " 'app',\n",
       " 'apple',\n",
       " 'are',\n",
       " 'arguments',\n",
       " 'artificial',\n",
       " 'as',\n",
       " 'available',\n",
       " 'based',\n",
       " 'basic',\n",
       " 'be',\n",
       " 'between',\n",
       " 'binary',\n",
       " 'both',\n",
       " 'by',\n",
       " 'bytes',\n",
       " 'can',\n",
       " 'cat',\n",
       " 'catenates',\n",
       " 'cats',\n",
       " 'changes',\n",
       " 'chromosomes',\n",
       " 'clear',\n",
       " 'closest',\n",
       " 'command',\n",
       " 'commands',\n",
       " 'common',\n",
       " 'community',\n",
       " 'comparison',\n",
       " 'computers',\n",
       " 'concatenate',\n",
       " 'concern',\n",
       " 'connected',\n",
       " 'contains',\n",
       " 'content',\n",
       " 'count',\n",
       " 'create',\n",
       " 'default',\n",
       " 'delete',\n",
       " 'deliberately',\n",
       " 'developed',\n",
       " 'diploid',\n",
       " 'disk',\n",
       " 'displays',\n",
       " 'dogs',\n",
       " 'domestic',\n",
       " 'domesticated',\n",
       " 'domestication',\n",
       " 'download',\n",
       " 'drive',\n",
       " 'during',\n",
       " 'ears',\n",
       " 'editions',\n",
       " 'enhancements',\n",
       " 'entirely',\n",
       " 'error',\n",
       " 'every',\n",
       " 'external',\n",
       " 'factory',\n",
       " 'faint',\n",
       " 'features',\n",
       " 'felis',\n",
       " 'fifth',\n",
       " 'file',\n",
       " 'files',\n",
       " 'firmware',\n",
       " 'flow',\n",
       " 'for',\n",
       " 'frequency',\n",
       " 'from',\n",
       " 'genes',\n",
       " 'genus',\n",
       " 'has',\n",
       " 'have',\n",
       " 'hear',\n",
       " 'high',\n",
       " 'however',\n",
       " 'human',\n",
       " 'if',\n",
       " 'in',\n",
       " 'incremental',\n",
       " 'information',\n",
       " 'installation',\n",
       " 'installed',\n",
       " 'installs',\n",
       " 'instead',\n",
       " 'intel',\n",
       " 'interactive',\n",
       " 'is',\n",
       " 'it',\n",
       " 'its',\n",
       " 'july',\n",
       " 'just',\n",
       " 'keyboards',\n",
       " 'kg',\n",
       " 'later',\n",
       " 'lb',\n",
       " 'learned',\n",
       " 'left',\n",
       " 'legibility',\n",
       " 'leopard',\n",
       " 'lines',\n",
       " 'linux',\n",
       " 'lion',\n",
       " 'longer',\n",
       " 'mac',\n",
       " 'made',\n",
       " 'major',\n",
       " 'marks',\n",
       " 'mavericks',\n",
       " 'may',\n",
       " 'members',\n",
       " 'mice',\n",
       " 'mid',\n",
       " 'more',\n",
       " 'most',\n",
       " 'mountain',\n",
       " 'moved',\n",
       " 'named',\n",
       " 'need',\n",
       " 'needing',\n",
       " 'new',\n",
       " 'no',\n",
       " 'non',\n",
       " 'not',\n",
       " 'now',\n",
       " 'october',\n",
       " 'of',\n",
       " 'off',\n",
       " 'offered',\n",
       " 'often',\n",
       " 'on',\n",
       " 'one',\n",
       " 'online',\n",
       " 'or',\n",
       " 'organisms',\n",
       " 'os',\n",
       " 'osx',\n",
       " 'other',\n",
       " 'output',\n",
       " 'over',\n",
       " 'part',\n",
       " 'patch',\n",
       " 'people',\n",
       " 'permanently',\n",
       " 'piped',\n",
       " 'pipes',\n",
       " 'place',\n",
       " 'possess',\n",
       " 'predators',\n",
       " 'predecessor',\n",
       " 'process',\n",
       " 'processors',\n",
       " 'purchase',\n",
       " 'rather',\n",
       " 'read',\n",
       " 'received',\n",
       " 'receives',\n",
       " 'recent',\n",
       " 'redirected',\n",
       " 'redirection',\n",
       " 'release',\n",
       " 'released',\n",
       " 'releases',\n",
       " 'releasing',\n",
       " 'right',\n",
       " 'roughly',\n",
       " 'run',\n",
       " 'running',\n",
       " 's',\n",
       " 'safari',\n",
       " 'safer',\n",
       " 'second',\n",
       " 'selection',\n",
       " 'separate',\n",
       " 'sequence',\n",
       " 'similar',\n",
       " 'simply',\n",
       " 'since',\n",
       " 'single',\n",
       " 'size',\n",
       " 'small',\n",
       " 'so',\n",
       " 'some',\n",
       " 'sounds',\n",
       " 'standard',\n",
       " 'started',\n",
       " 'starting',\n",
       " 'stdin',\n",
       " 'stdout',\n",
       " 'store',\n",
       " 'streams',\n",
       " 'successor',\n",
       " 'such',\n",
       " 'switch',\n",
       " 'symbol',\n",
       " 'symbols',\n",
       " 't',\n",
       " 'tamed',\n",
       " 'terms',\n",
       " 'than',\n",
       " 'that',\n",
       " 'the',\n",
       " 'their',\n",
       " 'they',\n",
       " 'those',\n",
       " 'three',\n",
       " 'through',\n",
       " 'tiger',\n",
       " 'time',\n",
       " 'to',\n",
       " 'too',\n",
       " 'two',\n",
       " 'type',\n",
       " 'typically',\n",
       " 'undergone',\n",
       " 'unix',\n",
       " 'unnecessary',\n",
       " 'update',\n",
       " 'upgrade',\n",
       " 'use',\n",
       " 'used',\n",
       " 'useful',\n",
       " 'using',\n",
       " 'vermin',\n",
       " 'version',\n",
       " 'versions',\n",
       " 'was',\n",
       " 'weighing',\n",
       " 'were',\n",
       " 'when',\n",
       " 'where',\n",
       " 'which',\n",
       " 'wild',\n",
       " 'will',\n",
       " 'with',\n",
       " 'without',\n",
       " 'won',\n",
       " 'world',\n",
       " 'wrong',\n",
       " 'x',\n",
       " 'year',\n",
       " 'yosemite',\n",
       " 'you'}"
      ]
     },
     "execution_count": 159,
     "metadata": {},
     "output_type": "execute_result"
    }
   ],
   "source": [
    "uniq_words = set(sum(t.values.tolist(), []))\n",
    "uniq_words"
   ]
  },
  {
   "cell_type": "code",
   "execution_count": 164,
   "metadata": {},
   "outputs": [
    {
     "data": {
      "text/html": [
       "<div>\n",
       "<style scoped>\n",
       "    .dataframe tbody tr th:only-of-type {\n",
       "        vertical-align: middle;\n",
       "    }\n",
       "\n",
       "    .dataframe tbody tr th {\n",
       "        vertical-align: top;\n",
       "    }\n",
       "\n",
       "    .dataframe thead th {\n",
       "        text-align: right;\n",
       "    }\n",
       "</style>\n",
       "<table border=\"1\" class=\"dataframe\">\n",
       "  <thead>\n",
       "    <tr style=\"text-align: right;\">\n",
       "      <th></th>\n",
       "      <th>0</th>\n",
       "    </tr>\n",
       "  </thead>\n",
       "  <tbody>\n",
       "    <tr>\n",
       "      <th>0</th>\n",
       "      <td>so</td>\n",
       "    </tr>\n",
       "    <tr>\n",
       "      <th>1</th>\n",
       "      <td>leopard</td>\n",
       "    </tr>\n",
       "    <tr>\n",
       "      <th>2</th>\n",
       "      <td>content</td>\n",
       "    </tr>\n",
       "    <tr>\n",
       "      <th>3</th>\n",
       "      <td>has</td>\n",
       "    </tr>\n",
       "    <tr>\n",
       "      <th>4</th>\n",
       "      <td>standard</td>\n",
       "    </tr>\n",
       "  </tbody>\n",
       "</table>\n",
       "</div>"
      ],
      "text/plain": [
       "          0\n",
       "0        so\n",
       "1   leopard\n",
       "2   content\n",
       "3       has\n",
       "4  standard"
      ]
     },
     "execution_count": 164,
     "metadata": {},
     "output_type": "execute_result"
    }
   ],
   "source": [
    "words_ind = pd.DataFrame(uniq_words)\n",
    "words_ind.head()"
   ]
  },
  {
   "cell_type": "code",
   "execution_count": 295,
   "metadata": {},
   "outputs": [
    {
     "data": {
      "text/plain": [
       "array([[0., 0., 0., ..., 0., 0., 0.],\n",
       "       [0., 0., 0., ..., 0., 0., 0.],\n",
       "       [0., 0., 1., ..., 0., 0., 1.],\n",
       "       ...,\n",
       "       [0., 0., 0., ..., 0., 0., 0.],\n",
       "       [1., 0., 0., ..., 0., 0., 0.],\n",
       "       [0., 1., 0., ..., 0., 0., 0.]])"
      ]
     },
     "execution_count": 295,
     "metadata": {},
     "output_type": "execute_result"
    }
   ],
   "source": [
    "fin_mat = np.zeros((len(t), len(words_ind)))\n",
    "\n",
    "for i in range(len(t)):\n",
    "    tokens = t[i]\n",
    "    for token in tokens:\n",
    "        fin_mat[i][words_ind.loc[words_ind[0] == token].index[0]] += 1\n",
    "        \n",
    "fin_mat"
   ]
  },
  {
   "cell_type": "code",
   "execution_count": 341,
   "metadata": {},
   "outputs": [
    {
     "data": {
      "text/plain": [
       "matrix([[0.        ],\n",
       "        [0.95275444],\n",
       "        [0.86447381],\n",
       "        [0.89517152],\n",
       "        [0.77708871],\n",
       "        [0.94023857],\n",
       "        [0.73273876],\n",
       "        [0.92587507],\n",
       "        [0.88427249],\n",
       "        [0.90550888],\n",
       "        [0.83281654],\n",
       "        [0.88047714],\n",
       "        [0.83964325],\n",
       "        [0.87035926],\n",
       "        [0.87401184],\n",
       "        [0.94427218],\n",
       "        [0.84063619],\n",
       "        [0.9566445 ],\n",
       "        [0.94427218],\n",
       "        [0.88854436],\n",
       "        [0.84275727],\n",
       "        [0.82503645]])"
      ]
     },
     "execution_count": 341,
     "metadata": {},
     "output_type": "execute_result"
    }
   ],
   "source": [
    "res = np.matrix(0)\n",
    "for i in range(1, len(t)):\n",
    "    res = np.vstack((res, spatial.distance.cosine(fin_mat[0], fin_mat[i])))\n",
    "res"
   ]
  },
  {
   "cell_type": "code",
   "execution_count": 354,
   "metadata": {},
   "outputs": [
    {
     "data": {
      "text/html": [
       "<div>\n",
       "<style scoped>\n",
       "    .dataframe tbody tr th:only-of-type {\n",
       "        vertical-align: middle;\n",
       "    }\n",
       "\n",
       "    .dataframe tbody tr th {\n",
       "        vertical-align: top;\n",
       "    }\n",
       "\n",
       "    .dataframe thead th {\n",
       "        text-align: right;\n",
       "    }\n",
       "</style>\n",
       "<table border=\"1\" class=\"dataframe\">\n",
       "  <thead>\n",
       "    <tr style=\"text-align: right;\">\n",
       "      <th></th>\n",
       "      <th>distance</th>\n",
       "      <th>sentences</th>\n",
       "    </tr>\n",
       "  </thead>\n",
       "  <tbody>\n",
       "    <tr>\n",
       "      <th>0</th>\n",
       "      <td>0.000000</td>\n",
       "      <td>in comparison to dogs, cats have not undergone...</td>\n",
       "    </tr>\n",
       "    <tr>\n",
       "      <th>6</th>\n",
       "      <td>0.732739</td>\n",
       "      <td>domestic cats are similar in size to the other...</td>\n",
       "    </tr>\n",
       "    <tr>\n",
       "      <th>4</th>\n",
       "      <td>0.777089</td>\n",
       "      <td>in one, people deliberately tamed cats in a pr...</td>\n",
       "    </tr>\n",
       "    <tr>\n",
       "      <th>21</th>\n",
       "      <td>0.825036</td>\n",
       "      <td>the fifth major update to mac os x, leopard, c...</td>\n",
       "    </tr>\n",
       "    <tr>\n",
       "      <th>10</th>\n",
       "      <td>0.832817</td>\n",
       "      <td>cat command is one of the basic commands that ...</td>\n",
       "    </tr>\n",
       "  </tbody>\n",
       "</table>\n",
       "</div>"
      ],
      "text/plain": [
       "    distance                                          sentences\n",
       "0   0.000000  in comparison to dogs, cats have not undergone...\n",
       "6   0.732739  domestic cats are similar in size to the other...\n",
       "4   0.777089  in one, people deliberately tamed cats in a pr...\n",
       "21  0.825036  the fifth major update to mac os x, leopard, c...\n",
       "10  0.832817  cat command is one of the basic commands that ..."
      ]
     },
     "execution_count": 354,
     "metadata": {},
     "output_type": "execute_result"
    }
   ],
   "source": [
    "res = pd.DataFrame(res, columns=['distance'])\n",
    "res['sentences'] = text\n",
    "res.sort_values(by = 'distance').head()"
   ]
  },
  {
   "cell_type": "markdown",
   "metadata": {},
   "source": [
    "# Task 2"
   ]
  },
  {
   "cell_type": "code",
   "execution_count": 362,
   "metadata": {},
   "outputs": [],
   "source": [
    "%matplotlib inline\n",
    "from matplotlib import pyplot as plt\n",
    "def f(x):\n",
    "    return sp.sin(x / 5) * sp.exp(5 / 10) + 5 * sp.exp(-x / 2)"
   ]
  },
  {
   "cell_type": "code",
   "execution_count": 483,
   "metadata": {},
   "outputs": [],
   "source": [
    "x = np.arange(1, 15, 0.01)\n",
    "y = list(map(f, x))"
   ]
  },
  {
   "cell_type": "code",
   "execution_count": 484,
   "metadata": {},
   "outputs": [],
   "source": [
    "def get_matrix(x_points):\n",
    "    n = len(x_points)\n",
    "    matrix = []\n",
    "    for x in x_points:\n",
    "        row = []\n",
    "        for i in range(n):\n",
    "            row.append(x**i)\n",
    "        matrix.append(row)\n",
    "    return np.array(matrix)\n",
    "\n",
    "def get_approximate_values(w, x_points):\n",
    "    y = []\n",
    "    for x in x_points:\n",
    "        y_curr = 0\n",
    "        for i in range(len(w)):\n",
    "            y_curr += w[i]*(x ** i)\n",
    "        y.append(y_curr)\n",
    "    return y\n",
    "\n",
    "# my variant (slower)\n",
    "def get_A(x):\n",
    "    res = np.array([1] * len(x))\n",
    "    \n",
    "    for i in range(1, len(x)):\n",
    "        mat = list(map(lambda w: w ** i, x))\n",
    "        res = np.vstack((res, mat))\n",
    "        \n",
    "    return res.T"
   ]
  },
  {
   "cell_type": "code",
   "execution_count": 485,
   "metadata": {
    "scrolled": false
   },
   "outputs": [],
   "source": [
    "x1 = [1, 15]\n",
    "A1 = get_A(x1)\n",
    "y1 = np.array(list(map(f, x1)))\n",
    "w1 = sp.linalg.solve(A, y1)\n",
    "y1_appr = get_approximate_values(w1, x)"
   ]
  },
  {
   "cell_type": "code",
   "execution_count": 486,
   "metadata": {},
   "outputs": [],
   "source": [
    "x2 = [1, 8, 15]\n",
    "A2 = get_A(x2)\n",
    "y2 = np.array(list(map(f, x2)))\n",
    "w2 = sp.linalg.solve(A2, y2)\n",
    "y2_appr = get_approximate_values(w2, x)"
   ]
  },
  {
   "cell_type": "code",
   "execution_count": 488,
   "metadata": {},
   "outputs": [],
   "source": [
    "x3 = [1, 4, 10, 15]\n",
    "A3 = get_A(x3)\n",
    "y3 = np.array(list(map(f, x3)))\n",
    "w3 = sp.linalg.solve(A3, y3)\n",
    "y3_appr = get_approximate_values(w3, x)"
   ]
  },
  {
   "cell_type": "code",
   "execution_count": 489,
   "metadata": {},
   "outputs": [
    {
     "data": {
      "text/plain": [
       "[<matplotlib.lines.Line2D at 0x8ade9ab00>]"
      ]
     },
     "execution_count": 489,
     "metadata": {},
     "output_type": "execute_result"
    },
    {
     "data": {
      "image/png": "[encoded data removed]",
      "text/plain": [
       "<Figure size 432x288 with 1 Axes>"
      ]
     },
     "metadata": {
      "needs_background": "light"
     },
     "output_type": "display_data"
    }
   ],
   "source": [
    "plt.plot(x, y)\n",
    "plt.plot(x, y1_appr)\n",
    "plt.plot(x, y2_appr)\n",
    "plt.plot(x, y3_appr)"
   ]
  }
 ],
 "metadata": {
  "kernelspec": {
   "display_name": "Python 3",
   "language": "python",
   "name": "python3"
  },
  "language_info": {
   "codemirror_mode": {
    "name": "ipython",
    "version": 3
   },
   "file_extension": ".py",
   "mimetype": "text/x-python",
   "name": "python",
   "nbconvert_exporter": "python",
   "pygments_lexer": "ipython3",
   "version": "3.6.8"
  }
 },
 "nbformat": 4,
 "nbformat_minor": 2
}
